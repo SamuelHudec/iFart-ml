{
 "cells": [
  {
   "cell_type": "code",
   "execution_count": 1,
   "id": "3a46b716-7dd4-4cd8-b911-5be64c67ef33",
   "metadata": {
    "collapsed": true,
    "jupyter": {
     "outputs_hidden": true
    },
    "tags": []
   },
   "outputs": [
    {
     "name": "stdout",
     "output_type": "stream",
     "text": [
      "Collecting ffmpeg\n",
      "  Downloading ffmpeg-1.4.tar.gz (5.1 kB)\n",
      "  Preparing metadata (setup.py) ... \u001b[?25ldone\n",
      "\u001b[?25hBuilding wheels for collected packages: ffmpeg\n",
      "  Building wheel for ffmpeg (setup.py) ... \u001b[?25ldone\n",
      "\u001b[?25h  Created wheel for ffmpeg: filename=ffmpeg-1.4-py3-none-any.whl size=6084 sha256=0e3b8880c40989f135418293581086fda6941d2fb8dffdbc1bd291507aea5446\n",
      "  Stored in directory: /Users/samuelhudec/Library/Caches/pip/wheels/64/80/6e/caa3e16deb0267c3cbfd36862058a724144e19fdb9eb03af0f\n",
      "Successfully built ffmpeg\n",
      "Installing collected packages: ffmpeg\n",
      "Successfully installed ffmpeg-1.4\n",
      "Collecting ffprobe\n",
      "  Downloading ffprobe-0.5.zip (3.5 kB)\n",
      "  Preparing metadata (setup.py) ... \u001b[?25ldone\n",
      "\u001b[?25hBuilding wheels for collected packages: ffprobe\n",
      "  Building wheel for ffprobe (setup.py) ... \u001b[?25ldone\n",
      "\u001b[?25h  Created wheel for ffprobe: filename=ffprobe-0.5-py3-none-any.whl size=3429 sha256=9fb8845237c2728215d7b901cd287adf95f57bbe37f07d322cc7515bc080869e\n",
      "  Stored in directory: /Users/samuelhudec/Library/Caches/pip/wheels/c8/68/e3/90be03cf7d5afcc4d97f533397c6a3522d0cc9a3288695fcc3\n",
      "Successfully built ffprobe\n",
      "Installing collected packages: ffprobe\n",
      "Successfully installed ffprobe-0.5\n",
      "Collecting pydub\n",
      "  Downloading pydub-0.25.1-py2.py3-none-any.whl (32 kB)\n",
      "Installing collected packages: pydub\n",
      "Successfully installed pydub-0.25.1\n"
     ]
    }
   ],
   "source": [
    "! brew install ffmpeg\n",
    "! python -m pip install pydub"
   ]
  },
  {
   "cell_type": "code",
   "execution_count": 1,
   "id": "b6b4b3f3-f9a2-4341-9136-f17c51dbe330",
   "metadata": {
    "tags": []
   },
   "outputs": [],
   "source": [
    "from pydub import AudioSegment\n",
    "\n",
    "m4a_file = '/Users/samuelhudec/PycharmProjects/iFart-ml/data/test/Farttest.m4a'\n",
    "wav_filename = '/Users/samuelhudec/PycharmProjects/iFart-ml/data/test/Farttest_converted.wav'\n",
    "\n",
    "sound = AudioSegment.from_file(m4a_file, format='m4a')\n",
    "file_handle = sound.export(wav_filename, format='wav')"
   ]
  },
  {
   "cell_type": "code",
   "execution_count": null,
   "id": "b21412b0-7193-4daf-9a5d-e7190d25103b",
   "metadata": {},
   "outputs": [],
   "source": []
  },
  {
   "cell_type": "code",
   "execution_count": null,
   "id": "4b15262b-914c-41a7-9a64-be0463655970",
   "metadata": {},
   "outputs": [],
   "source": []
  },
  {
   "cell_type": "code",
   "execution_count": null,
   "id": "7f7ee47c-b5dc-41b1-a054-b9b5e3ac3e78",
   "metadata": {},
   "outputs": [],
   "source": []
  },
  {
   "cell_type": "code",
   "execution_count": null,
   "id": "3f8bfcff-c620-41f9-ba3f-6e6a69560e3c",
   "metadata": {},
   "outputs": [],
   "source": []
  },
  {
   "cell_type": "code",
   "execution_count": null,
   "id": "b0cb63a5-38db-49f2-8fbe-a065e90c1e35",
   "metadata": {},
   "outputs": [],
   "source": []
  },
  {
   "cell_type": "code",
   "execution_count": null,
   "id": "e06491e7-c433-42bb-b7d0-1074694a1a82",
   "metadata": {},
   "outputs": [],
   "source": []
  }
 ],
 "metadata": {
  "kernelspec": {
   "display_name": "Python 3 (ipykernel)",
   "language": "python",
   "name": "python3"
  },
  "language_info": {
   "codemirror_mode": {
    "name": "ipython",
    "version": 3
   },
   "file_extension": ".py",
   "mimetype": "text/x-python",
   "name": "python",
   "nbconvert_exporter": "python",
   "pygments_lexer": "ipython3",
   "version": "3.7.1"
  }
 },
 "nbformat": 4,
 "nbformat_minor": 5
}
